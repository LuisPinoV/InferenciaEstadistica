{
 "cells": [
  {
   "cell_type": "code",
   "execution_count": 13,
   "metadata": {},
   "outputs": [],
   "source": [
    "import numpy as np\n",
    "import matplotlib.pyplot as plt\n",
    "import seaborn as sns\n",
    "import pandas as pd"
   ]
  },
  {
   "cell_type": "markdown",
   "metadata": {},
   "source": [
    "### 3.4 Actividad final: Simulación relacionada con su pregunta de investigación\n",
    "\n",
    "Para completar este notebook, realice una simulación estadística que se relacione con su potencial pregunta de investigación. Esta simulación debe:\n",
    "\n",
    "1. Generar datos que modelen el fenómeno que quieren estudiar\n",
    "2. Aplicar una prueba estadística apropiada\n",
    "3. Interpretar los resultados en el contexto de su proyecto"
   ]
  },
  {
   "cell_type": "code",
   "execution_count": 14,
   "metadata": {},
   "outputs": [
    {
     "name": "stdout",
     "output_type": "stream",
     "text": [
      "CSV NOT FOUND\n",
      "Información del dataset GRD:\n",
      "Tamaño: 1000 filas, 14 columnas\n",
      "\n",
      "Columnas disponibles:\n",
      "- COD_HOSPITAL\n",
      "- CIP_ENCRIPTADO\n",
      "- SEXO\n",
      "- FECHA_NACIMIENTO\n",
      "- SERVICIO_SALUD\n",
      "- TIPO_INGRESO\n",
      "- FECHA_INGRESO\n",
      "- FECHAALTA\n",
      "- TIPOALTA\n",
      "- DIAGNOSTICO1\n",
      "- IR_29301_COD_GRD\n",
      "- IR_29301_PESO\n",
      "- IR_29301_SEVERIDAD\n",
      "- IR_29301_MORTALIDAD\n",
      "\n",
      "Primeras 5 filas:\n"
     ]
    },
    {
     "data": {
      "application/vnd.microsoft.datawrangler.viewer.v0+json": {
       "columns": [
        {
         "name": "index",
         "rawType": "int64",
         "type": "integer"
        },
        {
         "name": "COD_HOSPITAL",
         "rawType": "int32",
         "type": "integer"
        },
        {
         "name": "CIP_ENCRIPTADO",
         "rawType": "int32",
         "type": "integer"
        },
        {
         "name": "SEXO",
         "rawType": "object",
         "type": "string"
        },
        {
         "name": "FECHA_NACIMIENTO",
         "rawType": "datetime64[ns]",
         "type": "datetime"
        },
        {
         "name": "SERVICIO_SALUD",
         "rawType": "object",
         "type": "string"
        },
        {
         "name": "TIPO_INGRESO",
         "rawType": "object",
         "type": "string"
        },
        {
         "name": "FECHA_INGRESO",
         "rawType": "datetime64[ns]",
         "type": "datetime"
        },
        {
         "name": "FECHAALTA",
         "rawType": "datetime64[ns]",
         "type": "datetime"
        },
        {
         "name": "TIPOALTA",
         "rawType": "object",
         "type": "string"
        },
        {
         "name": "DIAGNOSTICO1",
         "rawType": "object",
         "type": "string"
        },
        {
         "name": "IR_29301_COD_GRD",
         "rawType": "int64",
         "type": "integer"
        },
        {
         "name": "IR_29301_PESO",
         "rawType": "object",
         "type": "string"
        },
        {
         "name": "IR_29301_SEVERIDAD",
         "rawType": "int64",
         "type": "integer"
        },
        {
         "name": "IR_29301_MORTALIDAD",
         "rawType": "int64",
         "type": "integer"
        }
       ],
       "conversionMethod": "pd.DataFrame",
       "ref": "a801ec7a-0169-4eb0-938e-3e182aaa29d2",
       "rows": [
        [
         "0",
         "144509",
         "1999963",
         "F",
         "1973-10-09 00:00:00",
         "METROPOLITANO NORTE",
         "URGENCIA",
         "2023-04-24 00:00:00",
         "2023-11-22 00:00:00",
         "DOMICILIO",
         "I10",
         "114102",
         "2.7468884976321295",
         "0",
         "0"
        ],
        [
         "1",
         "119968",
         "3139358",
         "M",
         "1969-05-27 00:00:00",
         "METROPOLITANO ORIENTE",
         "ELECTIVO",
         "2023-06-30 00:00:00",
         "2023-04-09 00:00:00",
         "DOMICILIO",
         "I10",
         "101101",
         "1.721397476908136",
         "2",
         "0"
        ],
        [
         "2",
         "147742",
         "6243168",
         "F",
         "1971-12-23 00:00:00",
         "METROPOLITANO CENTRAL",
         "URGENCIA",
         "2023-11-03 00:00:00",
         "2023-10-11 00:00:00",
         "DOMICILIO",
         "C61",
         "114102",
         "2.2744990405802286",
         "2",
         "1"
        ],
        [
         "3",
         "114556",
         "3357809",
         "M",
         "2004-04-21 00:00:00",
         "METROPOLITANO ORIENTE",
         "ELECTIVO",
         "2023-12-19 00:00:00",
         "2023-11-04 00:00:00",
         "TRASLADO",
         "C61",
         "101103",
         "2.9165194163391073",
         "1",
         "0"
        ],
        [
         "4",
         "165000",
         "4736562",
         "M",
         "2004-04-18 00:00:00",
         "METROPOLITANO ORIENTE",
         "URGENCIA",
         "2023-07-16 00:00:00",
         "2023-12-01 00:00:00",
         "DOMICILIO",
         "C50",
         "114101",
         "0.728037039923123",
         "1",
         "3"
        ]
       ],
       "shape": {
        "columns": 14,
        "rows": 5
       }
      },
      "text/html": [
       "<div>\n",
       "<style scoped>\n",
       "    .dataframe tbody tr th:only-of-type {\n",
       "        vertical-align: middle;\n",
       "    }\n",
       "\n",
       "    .dataframe tbody tr th {\n",
       "        vertical-align: top;\n",
       "    }\n",
       "\n",
       "    .dataframe thead th {\n",
       "        text-align: right;\n",
       "    }\n",
       "</style>\n",
       "<table border=\"1\" class=\"dataframe\">\n",
       "  <thead>\n",
       "    <tr style=\"text-align: right;\">\n",
       "      <th></th>\n",
       "      <th>COD_HOSPITAL</th>\n",
       "      <th>CIP_ENCRIPTADO</th>\n",
       "      <th>SEXO</th>\n",
       "      <th>FECHA_NACIMIENTO</th>\n",
       "      <th>SERVICIO_SALUD</th>\n",
       "      <th>TIPO_INGRESO</th>\n",
       "      <th>FECHA_INGRESO</th>\n",
       "      <th>FECHAALTA</th>\n",
       "      <th>TIPOALTA</th>\n",
       "      <th>DIAGNOSTICO1</th>\n",
       "      <th>IR_29301_COD_GRD</th>\n",
       "      <th>IR_29301_PESO</th>\n",
       "      <th>IR_29301_SEVERIDAD</th>\n",
       "      <th>IR_29301_MORTALIDAD</th>\n",
       "    </tr>\n",
       "  </thead>\n",
       "  <tbody>\n",
       "    <tr>\n",
       "      <th>0</th>\n",
       "      <td>144509</td>\n",
       "      <td>1999963</td>\n",
       "      <td>F</td>\n",
       "      <td>1973-10-09</td>\n",
       "      <td>METROPOLITANO NORTE</td>\n",
       "      <td>URGENCIA</td>\n",
       "      <td>2023-04-24</td>\n",
       "      <td>2023-11-22</td>\n",
       "      <td>DOMICILIO</td>\n",
       "      <td>I10</td>\n",
       "      <td>114102</td>\n",
       "      <td>2.7468884976321295</td>\n",
       "      <td>0</td>\n",
       "      <td>0</td>\n",
       "    </tr>\n",
       "    <tr>\n",
       "      <th>1</th>\n",
       "      <td>119968</td>\n",
       "      <td>3139358</td>\n",
       "      <td>M</td>\n",
       "      <td>1969-05-27</td>\n",
       "      <td>METROPOLITANO ORIENTE</td>\n",
       "      <td>ELECTIVO</td>\n",
       "      <td>2023-06-30</td>\n",
       "      <td>2023-04-09</td>\n",
       "      <td>DOMICILIO</td>\n",
       "      <td>I10</td>\n",
       "      <td>101101</td>\n",
       "      <td>1.721397476908136</td>\n",
       "      <td>2</td>\n",
       "      <td>0</td>\n",
       "    </tr>\n",
       "    <tr>\n",
       "      <th>2</th>\n",
       "      <td>147742</td>\n",
       "      <td>6243168</td>\n",
       "      <td>F</td>\n",
       "      <td>1971-12-23</td>\n",
       "      <td>METROPOLITANO CENTRAL</td>\n",
       "      <td>URGENCIA</td>\n",
       "      <td>2023-11-03</td>\n",
       "      <td>2023-10-11</td>\n",
       "      <td>DOMICILIO</td>\n",
       "      <td>C61</td>\n",
       "      <td>114102</td>\n",
       "      <td>2.2744990405802286</td>\n",
       "      <td>2</td>\n",
       "      <td>1</td>\n",
       "    </tr>\n",
       "    <tr>\n",
       "      <th>3</th>\n",
       "      <td>114556</td>\n",
       "      <td>3357809</td>\n",
       "      <td>M</td>\n",
       "      <td>2004-04-21</td>\n",
       "      <td>METROPOLITANO ORIENTE</td>\n",
       "      <td>ELECTIVO</td>\n",
       "      <td>2023-12-19</td>\n",
       "      <td>2023-11-04</td>\n",
       "      <td>TRASLADO</td>\n",
       "      <td>C61</td>\n",
       "      <td>101103</td>\n",
       "      <td>2.9165194163391073</td>\n",
       "      <td>1</td>\n",
       "      <td>0</td>\n",
       "    </tr>\n",
       "    <tr>\n",
       "      <th>4</th>\n",
       "      <td>165000</td>\n",
       "      <td>4736562</td>\n",
       "      <td>M</td>\n",
       "      <td>2004-04-18</td>\n",
       "      <td>METROPOLITANO ORIENTE</td>\n",
       "      <td>URGENCIA</td>\n",
       "      <td>2023-07-16</td>\n",
       "      <td>2023-12-01</td>\n",
       "      <td>DOMICILIO</td>\n",
       "      <td>C50</td>\n",
       "      <td>114101</td>\n",
       "      <td>0.728037039923123</td>\n",
       "      <td>1</td>\n",
       "      <td>3</td>\n",
       "    </tr>\n",
       "  </tbody>\n",
       "</table>\n",
       "</div>"
      ],
      "text/plain": [
       "   COD_HOSPITAL  CIP_ENCRIPTADO SEXO FECHA_NACIMIENTO         SERVICIO_SALUD  \\\n",
       "0        144509         1999963    F       1973-10-09    METROPOLITANO NORTE   \n",
       "1        119968         3139358    M       1969-05-27  METROPOLITANO ORIENTE   \n",
       "2        147742         6243168    F       1971-12-23  METROPOLITANO CENTRAL   \n",
       "3        114556         3357809    M       2004-04-21  METROPOLITANO ORIENTE   \n",
       "4        165000         4736562    M       2004-04-18  METROPOLITANO ORIENTE   \n",
       "\n",
       "  TIPO_INGRESO FECHA_INGRESO  FECHAALTA   TIPOALTA DIAGNOSTICO1  \\\n",
       "0     URGENCIA    2023-04-24 2023-11-22  DOMICILIO          I10   \n",
       "1     ELECTIVO    2023-06-30 2023-04-09  DOMICILIO          I10   \n",
       "2     URGENCIA    2023-11-03 2023-10-11  DOMICILIO          C61   \n",
       "3     ELECTIVO    2023-12-19 2023-11-04   TRASLADO          C61   \n",
       "4     URGENCIA    2023-07-16 2023-12-01  DOMICILIO          C50   \n",
       "\n",
       "   IR_29301_COD_GRD       IR_29301_PESO  IR_29301_SEVERIDAD  \\\n",
       "0            114102  2.7468884976321295                   0   \n",
       "1            101101   1.721397476908136                   2   \n",
       "2            114102  2.2744990405802286                   2   \n",
       "3            101103  2.9165194163391073                   1   \n",
       "4            114101   0.728037039923123                   1   \n",
       "\n",
       "   IR_29301_MORTALIDAD  \n",
       "0                    0  \n",
       "1                    0  \n",
       "2                    1  \n",
       "3                    0  \n",
       "4                    3  "
      ]
     },
     "execution_count": 14,
     "metadata": {},
     "output_type": "execute_result"
    }
   ],
   "source": [
    "# Cargamos los datos (usamos una muestra para este notebook)\n",
    "# En caso de que no funcione la carga directa, ajustar la ruta al archivo\n",
    "import polars as pl\n",
    "\n",
    "try:\n",
    "    columnas_fecha = [\"FECHA_NACIMIENTO\", \"FECHA_INGRESO\", \"FECHAALTA\"]\n",
    "    df = pl.scan_csv(\"data/GRD_2023_muestra_cancer_UCV.csv\", null_values=[\"DESCONOCIDO\"])\n",
    "    df = df.with_columns([\n",
    "        pl.coalesce([\n",
    "            pl.col(col).str.strptime(pl.Date, \"%d-%m-%Y\", strict=False),\n",
    "            pl.col(col).str.strptime(pl.Date, \"%Y-%m-%d\", strict=False)\n",
    "        ]).alias(col)  # \n",
    "        for col in columnas_fecha\n",
    "    ])\n",
    "    # Finalmente, materializamos el DataFrame en memoria (si usas lazy):\n",
    "    df = df.collect()\n",
    "    grd_data = df.to_pandas()\n",
    "    print(\"CSV CARGADO\")\n",
    "\n",
    "except:\n",
    "    # Este es un dataset simulado para el notebook en caso de no tener acceso al archivo real\n",
    "    # Solo para fines didácticos\n",
    "    n_samples = 1000\n",
    "    grd_data = pd.DataFrame({\n",
    "        'COD_HOSPITAL': np.random.randint(100000, 200000, n_samples),\n",
    "        'CIP_ENCRIPTADO': np.random.randint(1000000, 9000000, n_samples),\n",
    "        'SEXO': np.random.choice(['M', 'F'], n_samples),\n",
    "        'FECHA_NACIMIENTO': [pd.Timestamp('1940-01-01') + \n",
    "                            pd.Timedelta(days=np.random.randint(0, 365*70)) for _ in range(n_samples)],\n",
    "        'SERVICIO_SALUD': np.random.choice(['METROPOLITANO CENTRAL', 'METROPOLITANO NORTE', \n",
    "                                          'METROPOLITANO SUR', 'METROPOLITANO ORIENTE'], n_samples),\n",
    "        'TIPO_INGRESO': np.random.choice(['URGENCIA', 'ELECTIVO'], n_samples),\n",
    "        'FECHA_INGRESO': [pd.Timestamp('2023-01-01') + \n",
    "                          pd.Timedelta(days=np.random.randint(0, 364)) for _ in range(n_samples)],\n",
    "        'FECHAALTA': [pd.Timestamp('2023-01-01') + \n",
    "                     pd.Timedelta(days=np.random.randint(1, 365)) for _ in range(n_samples)],\n",
    "        'TIPOALTA': np.random.choice(['DOMICILIO', 'TRASLADO', 'FALLECIMIENTO'], \n",
    "                                   n_samples, p=[0.8, 0.15, 0.05]),\n",
    "        'DIAGNOSTICO1': np.random.choice(['C61', 'C67', 'C64', 'C50', 'I10'], \n",
    "                                       n_samples, p=[0.3, 0.2, 0.2, 0.2, 0.1]),\n",
    "        'IR_29301_COD_GRD': np.random.choice([101101, 101102, 101103, 114101, 114102], n_samples),\n",
    "        'IR_29301_PESO': np.random.uniform(0.5, 3.0, n_samples).astype(str),\n",
    "        'IR_29301_SEVERIDAD': np.random.choice([0, 1, 2, 3], n_samples),\n",
    "        'IR_29301_MORTALIDAD': np.random.choice([0, 1, 2, 3], n_samples),\n",
    "    })\n",
    "    print(\"CSV NOT FOUND\")\n",
    "\n",
    "# Mostramos información básica del dataframe\n",
    "print(\"Información del dataset GRD:\")\n",
    "print(f\"Tamaño: {grd_data.shape[0]} filas, {grd_data.shape[1]} columnas\")\n",
    "print(\"\\nColumnas disponibles:\")\n",
    "for col in grd_data.columns:\n",
    "    print(f\"- {col}\")\n",
    "    \n",
    "print(\"\\nPrimeras 5 filas:\")\n",
    "grd_data.head()"
   ]
  },
  {
   "cell_type": "code",
   "execution_count": 15,
   "metadata": {},
   "outputs": [
    {
     "data": {
      "text/plain": [
       "SERVICIO_SALUD\n",
       "METROPOLITANO NORTE      257\n",
       "METROPOLITANO SUR        253\n",
       "METROPOLITANO ORIENTE    250\n",
       "METROPOLITANO CENTRAL    240\n",
       "Name: count, dtype: int64"
      ]
     },
     "execution_count": 15,
     "metadata": {},
     "output_type": "execute_result"
    }
   ],
   "source": [
    "grd_data[[\"IR_29301_MORTALIDAD\", \"SEXO\", \"FECHA_NACIMIENTO\", \"FECHA_INGRESO\", \"FECHAALTA\"]].head()\n",
    "grd_data[\"SERVICIO_SALUD\"].value_counts()"
   ]
  },
  {
   "cell_type": "markdown",
   "metadata": {},
   "source": [
    "## Simulacion"
   ]
  },
  {
   "cell_type": "code",
   "execution_count": 16,
   "metadata": {},
   "outputs": [
    {
     "name": "stdout",
     "output_type": "stream",
     "text": [
      "SIMULACIÓN DE DATOS PARA ANÁLISIS DE MORTALIDAD POR SERVICIO\n"
     ]
    },
    {
     "name": "stderr",
     "output_type": "stream",
     "text": [
      "C:\\Users\\Larsi\\AppData\\Local\\Temp\\ipykernel_40148\\3754834788.py:24: DeprecationWarning: Conversion of an array with ndim > 0 to a scalar is deprecated, and will error in future. Ensure you extract a single element from your array before performing this operation. (Deprecated NumPy 1.25.)\n",
      "  dias_estancia[i] = np.random.gamma(shape=2, scale=2.5, size=1)\n",
      "C:\\Users\\Larsi\\AppData\\Local\\Temp\\ipykernel_40148\\3754834788.py:26: DeprecationWarning: Conversion of an array with ndim > 0 to a scalar is deprecated, and will error in future. Ensure you extract a single element from your array before performing this operation. (Deprecated NumPy 1.25.)\n",
      "  dias_estancia[i] = np.random.gamma(shape=3, scale=3, size=1)\n",
      "C:\\Users\\Larsi\\AppData\\Local\\Temp\\ipykernel_40148\\3754834788.py:28: DeprecationWarning: Conversion of an array with ndim > 0 to a scalar is deprecated, and will error in future. Ensure you extract a single element from your array before performing this operation. (Deprecated NumPy 1.25.)\n",
      "  dias_estancia[i] = np.random.gamma(shape=4, scale=4, size=1)\n",
      "C:\\Users\\Larsi\\AppData\\Local\\Temp\\ipykernel_40148\\3754834788.py:22: DeprecationWarning: Conversion of an array with ndim > 0 to a scalar is deprecated, and will error in future. Ensure you extract a single element from your array before performing this operation. (Deprecated NumPy 1.25.)\n",
      "  dias_estancia[i] = np.random.gamma(shape=1.5, scale=2, size=1)\n",
      "C:\\Users\\Larsi\\AppData\\Local\\Temp\\ipykernel_40148\\3754834788.py:63: FutureWarning: The default value of 'ignore' for the `na_action` parameter in pandas.Categorical.map is deprecated and will be changed to 'None' in a future version. Please set na_action to the desired value to avoid seeing this warning\n",
      "  ordered=True).map({0: 'Sin gravedad', 1: 'Menor',\n"
     ]
    },
    {
     "data": {
      "application/vnd.microsoft.datawrangler.viewer.v0+json": {
       "columns": [
        {
         "name": "index",
         "rawType": "int64",
         "type": "integer"
        },
        {
         "name": "Mortalidad",
         "rawType": "int64",
         "type": "integer"
        },
        {
         "name": "Dias_estancia",
         "rawType": "float64",
         "type": "float"
        },
        {
         "name": "Enfermedad",
         "rawType": "object",
         "type": "string"
        },
        {
         "name": "Servicio_Salud",
         "rawType": "object",
         "type": "string"
        },
        {
         "name": "ID_Pacienete",
         "rawType": "object",
         "type": "unknown"
        },
        {
         "name": "Mortalidad_cat",
         "rawType": "category",
         "type": "unknown"
        }
       ],
       "conversionMethod": "pd.DataFrame",
       "ref": "c627f89f-0dcf-4c87-8155-9a83e8f08762",
       "rows": [
        [
         "0",
         "1",
         "1.1478479632415521",
         "Hypotiroidismo",
         "METROPOLITANA",
         "2878661",
         "Menor"
        ],
        [
         "1",
         "2",
         "2.2419263953255775",
         "Diarrea",
         "PUERTO VARAS",
         "2424001",
         "Moderada"
        ],
        [
         "2",
         "1",
         "7.428771932279892",
         "Gripe",
         "METROPOLITANA",
         "2644438",
         "Menor"
        ],
        [
         "3",
         "3",
         "11.60819279587342",
         "Paro Cardiaco",
         "METROPOLITANA",
         "1516873",
         "Mayor"
        ],
        [
         "4",
         "0",
         "0.26477738826368724",
         "sinusitis",
         "METROPOLITANA",
         "2545657",
         "Sin gravedad"
        ],
        [
         "5",
         "3",
         "6.148192835273305",
         "Paro Cardiaco",
         "PUERTO VARAS",
         "2542930",
         "Mayor"
        ],
        [
         "6",
         "1",
         "6.299802535918301",
         "Hypertiroidismo",
         "VALDIVIA",
         "1619060",
         "Menor"
        ],
        [
         "7",
         "1",
         "3.9648485511729907",
         "Gripe",
         "METROPOLITANA",
         "1890804",
         "Menor"
        ],
        [
         "8",
         "0",
         "2.5894386136842726",
         "Resfriado",
         "METROPOLITANA",
         "2219399",
         "Sin gravedad"
        ],
        [
         "9",
         "0",
         "2.130519712728693",
         "Resfriado",
         "VIÑA DEL MAR",
         "2524845",
         "Sin gravedad"
        ],
        [
         "10",
         "0",
         "8.205595068288623",
         "sinusitis",
         "VIÑA DEL MAR",
         "1187221",
         "Sin gravedad"
        ],
        [
         "11",
         "1",
         "4.5653330924105475",
         "Hypertiroidismo",
         "METROPOLITANA",
         "2431345",
         "Menor"
        ],
        [
         "12",
         "3",
         "13.567044490078162",
         "Derrame Cerebral",
         "METROPOLITANA",
         "1768974",
         "Mayor"
        ],
        [
         "13",
         "2",
         "15.815976810886252",
         "Diabetes",
         "METROPOLITANA",
         "2480780",
         "Moderada"
        ],
        [
         "14",
         "2",
         "15.189573814853055",
         "Pneumonia",
         "METROPOLITANA",
         "2284451",
         "Moderada"
        ],
        [
         "15",
         "3",
         "11.630749905395628",
         "Paro Cardiaco",
         "METROPOLITANA",
         "1595648",
         "Mayor"
        ],
        [
         "16",
         "1",
         "1.399547694966252",
         "Hypotiroidismo",
         "METROPOLITANA",
         "1902449",
         "Menor"
        ],
        [
         "17",
         "2",
         "4.5369889084183",
         "Diabetes",
         "METROPOLITANA",
         "2851479",
         "Moderada"
        ],
        [
         "18",
         "3",
         "14.486559887920357",
         "Cirrosis hepática",
         "METROPOLITANA",
         "1247690",
         "Mayor"
        ],
        [
         "19",
         "1",
         "3.5147408257365353",
         "viruela(Vacunados)",
         "PUERTO MONTT",
         "1038472",
         "Menor"
        ],
        [
         "20",
         "2",
         "9.246824413550167",
         "Diabetes",
         "METROPOLITANA",
         "1177349",
         "Moderada"
        ],
        [
         "21",
         "2",
         "5.754738537700183",
         "Diarrea",
         "VIÑA DEL MAR",
         "2341749",
         "Moderada"
        ],
        [
         "22",
         "2",
         "16.245005783230702",
         "Colealitis",
         "PUERTO MONTT",
         "1172408",
         "Moderada"
        ],
        [
         "23",
         "0",
         "2.583336312395143",
         "Resfriado",
         "VIÑA DEL MAR",
         "2318529",
         "Sin gravedad"
        ],
        [
         "24",
         "0",
         "0.37010233247657975",
         "sarampion",
         "METROPOLITANA",
         "2235323",
         "Sin gravedad"
        ],
        [
         "25",
         "2",
         "7.612375597219717",
         "Colealitis",
         "METROPOLITANA",
         "2582834",
         "Moderada"
        ],
        [
         "26",
         "3",
         "8.718574729076156",
         "Tuberculosis",
         "METROPOLITANA",
         "2937571",
         "Mayor"
        ],
        [
         "27",
         "3",
         "6.707364384590745",
         "Derrame Cerebral",
         "VALDIVIA",
         "1794415",
         "Mayor"
        ],
        [
         "28",
         "1",
         "1.8712734491583904",
         "Hypotiroidismo",
         "METROPOLITANA",
         "1008219",
         "Menor"
        ],
        [
         "29",
         "1",
         "4.492295127965908",
         "viruela(Vacunados)",
         "PUERTO MONTT",
         "2330518",
         "Menor"
        ],
        [
         "30",
         "2",
         "9.064400878022292",
         "Diabetes",
         "VIÑA DEL MAR",
         "1936786",
         "Moderada"
        ],
        [
         "31",
         "1",
         "4.887846545711657",
         "Hypotiroidismo",
         "METROPOLITANA",
         "1630720",
         "Menor"
        ],
        [
         "32",
         "2",
         "8.889361748375281",
         "Colealitis",
         "VIÑA DEL MAR",
         "2413494",
         "Moderada"
        ],
        [
         "33",
         "3",
         "13.552411405055288",
         "Cirrosis hepática",
         "METROPOLITANA",
         "1148866",
         "Mayor"
        ],
        [
         "34",
         "1",
         "5.6101580464984915",
         "Hypertiroidismo",
         "METROPOLITANA",
         "2532621",
         "Menor"
        ],
        [
         "35",
         "3",
         "5.790712315860872",
         "Derrame Cerebral",
         "METROPOLITANA",
         "1062799",
         "Mayor"
        ],
        [
         "36",
         "1",
         "7.478445443245734",
         "Hypotiroidismo",
         "VALDIVIA",
         "2762359",
         "Menor"
        ],
        [
         "37",
         "3",
         "9.340849597247045",
         "Tuberculosis",
         "PUERTO VARAS",
         "1789264",
         "Mayor"
        ],
        [
         "38",
         "3",
         "7.829575587805483",
         "Derrame Cerebral",
         "VIÑA DEL MAR",
         "1363978",
         "Mayor"
        ],
        [
         "39",
         "3",
         "20.27906151442188",
         "Paro Cardiaco",
         "VIÑA DEL MAR",
         "1353138",
         "Mayor"
        ],
        [
         "40",
         "2",
         "4.001020527866064",
         "Diabetes",
         "METROPOLITANA",
         "2236599",
         "Moderada"
        ],
        [
         "41",
         "2",
         "26.609946958612614",
         "Diarrea",
         "VALDIVIA",
         "1195810",
         "Moderada"
        ],
        [
         "42",
         "3",
         "30.462426955560275",
         "Derrame Cerebral",
         "VALDIVIA",
         "2854186",
         "Mayor"
        ],
        [
         "43",
         "3",
         "6.724506175635129",
         "Paro Cardiaco",
         "METROPOLITANA",
         "1705029",
         "Mayor"
        ],
        [
         "44",
         "3",
         "24.434421964195547",
         "Paro Cardiaco",
         "METROPOLITANA",
         "1918177",
         "Mayor"
        ],
        [
         "45",
         "1",
         "8.500518596550528",
         "Gripe",
         "METROPOLITANA",
         "1194974",
         "Menor"
        ],
        [
         "46",
         "0",
         "4.7957087689002575",
         "sinusitis",
         "VIÑA DEL MAR",
         "2218237",
         "Sin gravedad"
        ],
        [
         "47",
         "0",
         "1.7981693018021647",
         "Resfriado",
         "METROPOLITANA",
         "2851009",
         "Sin gravedad"
        ],
        [
         "48",
         "3",
         "18.909563755900592",
         "Paro Cardiaco",
         "METROPOLITANA",
         "2744997",
         "Mayor"
        ],
        [
         "49",
         "0",
         "3.4708096824471557",
         "Resfriado",
         "VIÑA DEL MAR",
         "2755690",
         "Sin gravedad"
        ]
       ],
       "shape": {
        "columns": 6,
        "rows": 2000
       }
      },
      "text/html": [
       "<div>\n",
       "<style scoped>\n",
       "    .dataframe tbody tr th:only-of-type {\n",
       "        vertical-align: middle;\n",
       "    }\n",
       "\n",
       "    .dataframe tbody tr th {\n",
       "        vertical-align: top;\n",
       "    }\n",
       "\n",
       "    .dataframe thead th {\n",
       "        text-align: right;\n",
       "    }\n",
       "</style>\n",
       "<table border=\"1\" class=\"dataframe\">\n",
       "  <thead>\n",
       "    <tr style=\"text-align: right;\">\n",
       "      <th></th>\n",
       "      <th>Mortalidad</th>\n",
       "      <th>Dias_estancia</th>\n",
       "      <th>Enfermedad</th>\n",
       "      <th>Servicio_Salud</th>\n",
       "      <th>ID_Pacienete</th>\n",
       "      <th>Mortalidad_cat</th>\n",
       "    </tr>\n",
       "  </thead>\n",
       "  <tbody>\n",
       "    <tr>\n",
       "      <th>0</th>\n",
       "      <td>1</td>\n",
       "      <td>1.147848</td>\n",
       "      <td>Hypotiroidismo</td>\n",
       "      <td>METROPOLITANA</td>\n",
       "      <td>2878661</td>\n",
       "      <td>Menor</td>\n",
       "    </tr>\n",
       "    <tr>\n",
       "      <th>1</th>\n",
       "      <td>2</td>\n",
       "      <td>2.241926</td>\n",
       "      <td>Diarrea</td>\n",
       "      <td>PUERTO VARAS</td>\n",
       "      <td>2424001</td>\n",
       "      <td>Moderada</td>\n",
       "    </tr>\n",
       "    <tr>\n",
       "      <th>2</th>\n",
       "      <td>1</td>\n",
       "      <td>7.428772</td>\n",
       "      <td>Gripe</td>\n",
       "      <td>METROPOLITANA</td>\n",
       "      <td>2644438</td>\n",
       "      <td>Menor</td>\n",
       "    </tr>\n",
       "    <tr>\n",
       "      <th>3</th>\n",
       "      <td>3</td>\n",
       "      <td>11.608193</td>\n",
       "      <td>Paro Cardiaco</td>\n",
       "      <td>METROPOLITANA</td>\n",
       "      <td>1516873</td>\n",
       "      <td>Mayor</td>\n",
       "    </tr>\n",
       "    <tr>\n",
       "      <th>4</th>\n",
       "      <td>0</td>\n",
       "      <td>0.264777</td>\n",
       "      <td>sinusitis</td>\n",
       "      <td>METROPOLITANA</td>\n",
       "      <td>2545657</td>\n",
       "      <td>Sin gravedad</td>\n",
       "    </tr>\n",
       "    <tr>\n",
       "      <th>...</th>\n",
       "      <td>...</td>\n",
       "      <td>...</td>\n",
       "      <td>...</td>\n",
       "      <td>...</td>\n",
       "      <td>...</td>\n",
       "      <td>...</td>\n",
       "    </tr>\n",
       "    <tr>\n",
       "      <th>1995</th>\n",
       "      <td>1</td>\n",
       "      <td>0.937352</td>\n",
       "      <td>Hypotiroidismo</td>\n",
       "      <td>METROPOLITANA</td>\n",
       "      <td>1274271</td>\n",
       "      <td>Menor</td>\n",
       "    </tr>\n",
       "    <tr>\n",
       "      <th>1996</th>\n",
       "      <td>3</td>\n",
       "      <td>20.698037</td>\n",
       "      <td>Cirrosis hepática</td>\n",
       "      <td>METROPOLITANA</td>\n",
       "      <td>2120135</td>\n",
       "      <td>Mayor</td>\n",
       "    </tr>\n",
       "    <tr>\n",
       "      <th>1997</th>\n",
       "      <td>2</td>\n",
       "      <td>9.368080</td>\n",
       "      <td>Diarrea</td>\n",
       "      <td>VALDIVIA</td>\n",
       "      <td>2534429</td>\n",
       "      <td>Moderada</td>\n",
       "    </tr>\n",
       "    <tr>\n",
       "      <th>1998</th>\n",
       "      <td>1</td>\n",
       "      <td>2.864516</td>\n",
       "      <td>Gripe</td>\n",
       "      <td>METROPOLITANA</td>\n",
       "      <td>1155431</td>\n",
       "      <td>Menor</td>\n",
       "    </tr>\n",
       "    <tr>\n",
       "      <th>1999</th>\n",
       "      <td>3</td>\n",
       "      <td>30.135085</td>\n",
       "      <td>Cirrosis hepática</td>\n",
       "      <td>VALDIVIA</td>\n",
       "      <td>1538144</td>\n",
       "      <td>Mayor</td>\n",
       "    </tr>\n",
       "  </tbody>\n",
       "</table>\n",
       "<p>2000 rows × 6 columns</p>\n",
       "</div>"
      ],
      "text/plain": [
       "      Mortalidad  Dias_estancia         Enfermedad Servicio_Salud  \\\n",
       "0              1       1.147848     Hypotiroidismo  METROPOLITANA   \n",
       "1              2       2.241926            Diarrea   PUERTO VARAS   \n",
       "2              1       7.428772              Gripe  METROPOLITANA   \n",
       "3              3      11.608193      Paro Cardiaco  METROPOLITANA   \n",
       "4              0       0.264777          sinusitis  METROPOLITANA   \n",
       "...          ...            ...                ...            ...   \n",
       "1995           1       0.937352     Hypotiroidismo  METROPOLITANA   \n",
       "1996           3      20.698037  Cirrosis hepática  METROPOLITANA   \n",
       "1997           2       9.368080            Diarrea       VALDIVIA   \n",
       "1998           1       2.864516              Gripe  METROPOLITANA   \n",
       "1999           3      30.135085  Cirrosis hepática       VALDIVIA   \n",
       "\n",
       "     ID_Pacienete Mortalidad_cat  \n",
       "0         2878661          Menor  \n",
       "1         2424001       Moderada  \n",
       "2         2644438          Menor  \n",
       "3         1516873          Mayor  \n",
       "4         2545657   Sin gravedad  \n",
       "...           ...            ...  \n",
       "1995      1274271          Menor  \n",
       "1996      2120135          Mayor  \n",
       "1997      2534429       Moderada  \n",
       "1998      1155431          Menor  \n",
       "1999      1538144          Mayor  \n",
       "\n",
       "[2000 rows x 6 columns]"
      ]
     },
     "execution_count": 16,
     "metadata": {},
     "output_type": "execute_result"
    }
   ],
   "source": [
    "\n",
    "print(\"SIMULACIÓN DE DATOS PARA ANÁLISIS DE MORTALIDAD POR SERVICIO\")\n",
    "\n",
    "#Primero hacemos una simulacion levantando los siuientes datos:\n",
    "#-Mortalidad x\n",
    "#-Dias estancia x\n",
    "#-Enfermedad x\n",
    "#-Servicio_Salud \n",
    "#-Paciente\n",
    "\n",
    "# 1. Simulamos datos\n",
    "#np.random.seed(123)\n",
    "n = 2000  # número de pacientes\n",
    "\n",
    "# Severidad como variable categórica (0, 1, 2, 3)\n",
    "mortalidad = np.random.choice([0, 1, 2, 3], size=n, p=[0.2, 0.3, 0.3, 0.2])\n",
    "\n",
    "# Días de estancia que aumentan con la severidad (simulando una relación)\n",
    "# Usamos diferentes parámetros de distribución gamma para cada nivel de severidad\n",
    "dias_estancia = np.zeros(n)\n",
    "for i in range(n):\n",
    "    if mortalidad[i] == 0:\n",
    "        dias_estancia[i] = np.random.gamma(shape=1.5, scale=2, size=1)\n",
    "    elif mortalidad[i] == 1:\n",
    "        dias_estancia[i] = np.random.gamma(shape=2, scale=2.5, size=1)\n",
    "    elif mortalidad[i] == 2:\n",
    "        dias_estancia[i] = np.random.gamma(shape=3, scale=3, size=1)\n",
    "    else:  # severidad 3\n",
    "        dias_estancia[i] = np.random.gamma(shape=4, scale=4, size=1)\n",
    "#Enfermedad\n",
    "enfermedad= np.empty(n, dtype=object)\n",
    "for i in range(n):\n",
    "    if mortalidad[i] == 0:\n",
    "        enfermedad[i] = np.random.choice([\"Resfriado\",\"sinusitis\",\"sarampion\",\"varicela\"],p=[0.4,0.3,0.2,0.1])\n",
    "    elif mortalidad[i] == 1:\n",
    "        enfermedad[i] = np.random.choice([\"Hypotiroidismo\",\"Hypertiroidismo\",\"Gripe\",\"viruela(Vacunados)\"],p=[0.4,0.3,0.2,0.1])\n",
    "    elif mortalidad[i] == 2:\n",
    "        enfermedad[i] = np.random.choice([\"Diarrea\",\"Diabetes\",\"Colealitis\",\"Pneumonia\"],p=[0.4,0.3,0.2,0.1])\n",
    "    else:  # severidad 3\n",
    "        enfermedad[i] = np.random.choice([\"Paro Cardiaco\",\"Derrame Cerebral\",\"Tuberculosis\",\"Cirrosis hepática\"],p=[0.4,0.3,0.2,0.1])\n",
    "\n",
    "#Servicios salud\n",
    "sevs=[\"METROPOLITANA\",\"VALDIVIA\",\"VIÑA DEL MAR\",\"PUERTO MONTT\",\"PUERTO VARAS\"]\n",
    "servicio_salud= np.empty(n, dtype=object)\n",
    "for i in range(n):\n",
    "    if np.random.randint(0,1)==0:\n",
    "        servicio_salud[i]= np.random.choice(sevs,p=[0.4,0.2,0.2,0.1,0.1])\n",
    "    else:\n",
    "         servicio_salud[i]= np.random.choice(sevs,p=[0.4,0.2,0.2,0.1,0.1])\n",
    "\n",
    "paciente= np.empty(n, dtype=object)\n",
    "for i in range(n):\n",
    "    paciente[i] = np.random.randint(1000000, 3000000)   \n",
    "\n",
    "# Creamos un DataFrame\n",
    "sim_data = pd.DataFrame({\n",
    "    'Mortalidad': mortalidad,\n",
    "    'Dias_estancia': dias_estancia,\n",
    "    'Enfermedad': enfermedad,\n",
    "    'Servicio_Salud': servicio_salud,\n",
    "    'ID_Pacienete': paciente,\n",
    "\n",
    "    'Mortalidad_cat': pd.Categorical(mortalidad, categories=[0, 1, 2, 3], \n",
    "                                    ordered=True).map({0: 'Sin gravedad', 1: 'Menor', \n",
    "                                                     2: 'Moderada', 3: 'Mayor'})\n",
    "})\n",
    "\n",
    "sim_data"
   ]
  },
  {
   "cell_type": "code",
   "execution_count": 17,
   "metadata": {},
   "outputs": [
    {
     "data": {
      "text/plain": [
       "Servicio_Salud\n",
       "METROPOLITANA    765\n",
       "VIÑA DEL MAR     412\n",
       "VALDIVIA         390\n",
       "PUERTO VARAS     233\n",
       "PUERTO MONTT     200\n",
       "Name: count, dtype: int64"
      ]
     },
     "execution_count": 17,
     "metadata": {},
     "output_type": "execute_result"
    }
   ],
   "source": [
    "sim_data[\"Servicio_Salud\"].value_counts()"
   ]
  },
  {
   "cell_type": "code",
   "execution_count": 18,
   "metadata": {},
   "outputs": [
    {
     "name": "stderr",
     "output_type": "stream",
     "text": [
      "C:\\Users\\Larsi\\AppData\\Local\\Temp\\ipykernel_40148\\274439425.py:3: FutureWarning: \n",
      "\n",
      "Passing `palette` without assigning `hue` is deprecated and will be removed in v0.14.0. Assign the `x` variable to `hue` and set `legend=False` for the same effect.\n",
      "\n",
      "  sns.boxplot(x='Mortalidad_cat', y='Dias_estancia', data=sim_data, palette='YlOrRd')\n"
     ]
    },
    {
     "data": {
      "image/png": "[encoded data removed]",
      "text/plain": [
       "<Figure size 1200x600 with 1 Axes>"
      ]
     },
     "metadata": {},
     "output_type": "display_data"
    },
    {
     "name": "stdout",
     "output_type": "stream",
     "text": [
      "Resultados del ANOVA:\n",
      "Estadístico F: 510.9283\n",
      "p-valor: 0.0000\n",
      "Conclusión: Hay diferencias significativas entre los grupos\n",
      "\n",
      "Estadísticas descriptivas por nivel de severidad:\n"
     ]
    },
    {
     "name": "stderr",
     "output_type": "stream",
     "text": [
      "C:\\Users\\Larsi\\AppData\\Local\\Temp\\ipykernel_40148\\274439425.py:28: FutureWarning: The default of observed=False is deprecated and will be changed to True in a future version of pandas. Pass observed=False to retain current behavior or observed=True to adopt the future default and silence this warning.\n",
      "  display(sim_data.groupby('Mortalidad_cat')['Dias_estancia'].describe())\n"
     ]
    },
    {
     "data": {
      "application/vnd.microsoft.datawrangler.viewer.v0+json": {
       "columns": [
        {
         "name": "Mortalidad_cat",
         "rawType": "category",
         "type": "unknown"
        },
        {
         "name": "count",
         "rawType": "float64",
         "type": "float"
        },
        {
         "name": "mean",
         "rawType": "float64",
         "type": "float"
        },
        {
         "name": "std",
         "rawType": "float64",
         "type": "float"
        },
        {
         "name": "min",
         "rawType": "float64",
         "type": "float"
        },
        {
         "name": "25%",
         "rawType": "float64",
         "type": "float"
        },
        {
         "name": "50%",
         "rawType": "float64",
         "type": "float"
        },
        {
         "name": "75%",
         "rawType": "float64",
         "type": "float"
        },
        {
         "name": "max",
         "rawType": "float64",
         "type": "float"
        }
       ],
       "conversionMethod": "pd.DataFrame",
       "ref": "324c7e7a-9ade-4144-9990-7838cb38b64a",
       "rows": [
        [
         "Sin gravedad",
         "407.0",
         "3.0881619015634265",
         "2.359586080197399",
         "0.1709913405545519",
         "1.3983053410626245",
         "2.583336312395143",
         "4.118975279173895",
         "15.65007324689417"
        ],
        [
         "Menor",
         "597.0",
         "5.144845136620697",
         "3.6592005585987932",
         "0.14321677351600973",
         "2.600106700998661",
         "4.3199972760402785",
         "6.751326805183282",
         "27.223323362209356"
        ],
        [
         "Moderada",
         "601.0",
         "9.197035818929276",
         "5.562602310927222",
         "0.8672421523550742",
         "5.172417082644952",
         "8.178668401455258",
         "11.990626134024712",
         "37.12756478092548"
        ],
        [
         "Mayor",
         "395.0",
         "16.519899470386065",
         "8.532157067020837",
         "1.5175812294815616",
         "10.490260448814041",
         "15.086240507368844",
         "20.430838099732785",
         "64.18506514470766"
        ]
       ],
       "shape": {
        "columns": 8,
        "rows": 4
       }
      },
      "text/html": [
       "<div>\n",
       "<style scoped>\n",
       "    .dataframe tbody tr th:only-of-type {\n",
       "        vertical-align: middle;\n",
       "    }\n",
       "\n",
       "    .dataframe tbody tr th {\n",
       "        vertical-align: top;\n",
       "    }\n",
       "\n",
       "    .dataframe thead th {\n",
       "        text-align: right;\n",
       "    }\n",
       "</style>\n",
       "<table border=\"1\" class=\"dataframe\">\n",
       "  <thead>\n",
       "    <tr style=\"text-align: right;\">\n",
       "      <th></th>\n",
       "      <th>count</th>\n",
       "      <th>mean</th>\n",
       "      <th>std</th>\n",
       "      <th>min</th>\n",
       "      <th>25%</th>\n",
       "      <th>50%</th>\n",
       "      <th>75%</th>\n",
       "      <th>max</th>\n",
       "    </tr>\n",
       "    <tr>\n",
       "      <th>Mortalidad_cat</th>\n",
       "      <th></th>\n",
       "      <th></th>\n",
       "      <th></th>\n",
       "      <th></th>\n",
       "      <th></th>\n",
       "      <th></th>\n",
       "      <th></th>\n",
       "      <th></th>\n",
       "    </tr>\n",
       "  </thead>\n",
       "  <tbody>\n",
       "    <tr>\n",
       "      <th>Sin gravedad</th>\n",
       "      <td>407.0</td>\n",
       "      <td>3.088162</td>\n",
       "      <td>2.359586</td>\n",
       "      <td>0.170991</td>\n",
       "      <td>1.398305</td>\n",
       "      <td>2.583336</td>\n",
       "      <td>4.118975</td>\n",
       "      <td>15.650073</td>\n",
       "    </tr>\n",
       "    <tr>\n",
       "      <th>Menor</th>\n",
       "      <td>597.0</td>\n",
       "      <td>5.144845</td>\n",
       "      <td>3.659201</td>\n",
       "      <td>0.143217</td>\n",
       "      <td>2.600107</td>\n",
       "      <td>4.319997</td>\n",
       "      <td>6.751327</td>\n",
       "      <td>27.223323</td>\n",
       "    </tr>\n",
       "    <tr>\n",
       "      <th>Moderada</th>\n",
       "      <td>601.0</td>\n",
       "      <td>9.197036</td>\n",
       "      <td>5.562602</td>\n",
       "      <td>0.867242</td>\n",
       "      <td>5.172417</td>\n",
       "      <td>8.178668</td>\n",
       "      <td>11.990626</td>\n",
       "      <td>37.127565</td>\n",
       "    </tr>\n",
       "    <tr>\n",
       "      <th>Mayor</th>\n",
       "      <td>395.0</td>\n",
       "      <td>16.519899</td>\n",
       "      <td>8.532157</td>\n",
       "      <td>1.517581</td>\n",
       "      <td>10.490260</td>\n",
       "      <td>15.086241</td>\n",
       "      <td>20.430838</td>\n",
       "      <td>64.185065</td>\n",
       "    </tr>\n",
       "  </tbody>\n",
       "</table>\n",
       "</div>"
      ],
      "text/plain": [
       "                count       mean       std       min        25%        50%  \\\n",
       "Mortalidad_cat                                                               \n",
       "Sin gravedad    407.0   3.088162  2.359586  0.170991   1.398305   2.583336   \n",
       "Menor           597.0   5.144845  3.659201  0.143217   2.600107   4.319997   \n",
       "Moderada        601.0   9.197036  5.562602  0.867242   5.172417   8.178668   \n",
       "Mayor           395.0  16.519899  8.532157  1.517581  10.490260  15.086241   \n",
       "\n",
       "                      75%        max  \n",
       "Mortalidad_cat                        \n",
       "Sin gravedad     4.118975  15.650073  \n",
       "Menor            6.751327  27.223323  \n",
       "Moderada        11.990626  37.127565  \n",
       "Mayor           20.430838  64.185065  "
      ]
     },
     "metadata": {},
     "output_type": "display_data"
    }
   ],
   "source": [
    "# 2. Visualizamos la relación\n",
    "plt.figure(figsize=(12, 6))\n",
    "sns.boxplot(x='Mortalidad_cat', y='Dias_estancia', data=sim_data, palette='YlOrRd')\n",
    "plt.title('Simulación: Días de Estancia por Nivel de Mortalidad')\n",
    "plt.xlabel('Nivel de Mortalidad')\n",
    "plt.ylabel('Días de Estancia')\n",
    "plt.show()\n",
    "\n",
    "# 3. Análisis estadístico: ANOVA para comparar medias entre grupos\n",
    "from scipy.stats import f_oneway\n",
    "\n",
    "# Separamos los grupos\n",
    "grupo0 = sim_data[sim_data['Mortalidad'] == 0]['Dias_estancia']\n",
    "grupo1 = sim_data[sim_data['Mortalidad'] == 1]['Dias_estancia']\n",
    "grupo2 = sim_data[sim_data['Mortalidad'] == 2]['Dias_estancia']\n",
    "grupo3 = sim_data[sim_data['Mortalidad'] == 3]['Dias_estancia']\n",
    "\n",
    "# Realizamos ANOVA\n",
    "f_stat, p_valor = f_oneway(grupo0, grupo1, grupo2, grupo3)\n",
    "\n",
    "print(f\"Resultados del ANOVA:\")\n",
    "print(f\"Estadístico F: {f_stat:.4f}\")\n",
    "print(f\"p-valor: {p_valor:.4f}\")\n",
    "print(f\"Conclusión: {'Hay diferencias significativas entre los grupos' if p_valor < 0.05 else 'No hay diferencias significativas entre los grupos'}\")\n",
    "\n",
    "# 4. Resumen descriptivo por grupo\n",
    "print(\"\\nEstadísticas descriptivas por nivel de severidad:\")\n",
    "display(sim_data.groupby('Mortalidad_cat')['Dias_estancia'].describe())\n",
    "\n",
    "# Su turno: Modifique este ejemplo o cree una nueva simulación\n",
    "# relacionada con su pregunta de investigación"
   ]
  }
 ],
 "metadata": {
  "kernelspec": {
   "display_name": "Python 3",
   "language": "python",
   "name": "python3"
  },
  "language_info": {
   "codemirror_mode": {
    "name": "ipython",
    "version": 3
   },
   "file_extension": ".py",
   "mimetype": "text/x-python",
   "name": "python",
   "nbconvert_exporter": "python",
   "pygments_lexer": "ipython3",
   "version": "3.12.3"
  }
 },
 "nbformat": 4,
 "nbformat_minor": 2
}
