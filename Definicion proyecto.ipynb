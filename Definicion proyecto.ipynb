{
 "cells": [
  {
   "cell_type": "markdown",
   "metadata": {},
   "source": [
    "# Definición de Proyecto GRD"
   ]
  },
  {
   "cell_type": "markdown",
   "metadata": {},
   "source": [
    "## 1. Integrantes del grupo\n",
    "- Estudiante 1: Luis Nicolas Pino\n",
    "- Estudiante 2: Marcial Ibanez \n",
    "\n",
    "\n",
    "## 2. Título tentativo del proyecto\n",
    "Analisis de la mortalidad por enfermedades mas comunes y su efecto en la estancia hospitalaria basada en GRD Chile 2024\n",
    "\n",
    "## 3. Declaración del problema desde el usuario\n",
    "\n",
    "Los servicios de salud necesitan administrar mejor sus recursos en base a las necesidades del paciente.\n",
    "\n",
    "Las enfermedades tienen tasas de mortalidad, dias de estancia medios, frecuencia de aparicion y entre otras caracteristicas como los costos monetarios asociados. Tener conocimiento de los comportamientos de dichos padecimientos es vital para la correcta administracion de los recursos hospitalarios y para a prediccion de comportamientos futuros.\n",
    "\n",
    "## 4. Pregunta principal de investigación\n",
    "\n",
    "¿Cómo afectan la mortalidad de las enfermedades a los dias de estancia hospitalaria de los pacientes que las padecen en los Servicio de Salud Público?\n",
    "\n",
    "## 5. Preguntas secundarias (mínimo 2)\n",
    "- Pregunta secundaria 1: ¿Como se comporta la mortalidad en las enfermedades mas comunes de los servicios de salud?\n",
    "- Pregunta secundaria 2: ¿Cuáles son los Servicios de Salud con mayor y menor índice de mortalidad?\n",
    "- Pregunta secundaria 3: ¿Que tienen en común las enfermedades de mayor mortalidad?\n",
    "\n",
    "## 6. Variables principales y justificación de selección\n",
    "Seleccione entre 3 y 5 variables claves del conjunto de datos GRD. Explique brevemente por qué son relevantes para responder sus preguntas de investigación.\n",
    "- Variable 1: Mortalidad - Justificación: EL proyecto se enfoca en estudiar su comportamiento y el efecto en las demas variables\n",
    "- Variable 2: Dias de estancia - Justificación: Variable para estudiar el efecto de la mortalidad en los recursos hospitalarios\n",
    "- Variable 3: Servicio de salud  - Justificación: variable para clasificar la mortalidad en los servicios de salud\n",
    "- (Opcional) Variable 4: Enfermedad - Justificación: variable para diferenciar la naturaleza de la mortalidad\n",
    "- (Opcional) Variable 5: Peso - Justificación: variable para medir el costo hospitalario generado por el paciente\n",
    "\n",
    "## 7. Metodología estadística propuesta\n",
    "\n",
    "- Método 1: Estadística Descriptiva - Propósito: Conocer el comportamiento de las variables individualmente.\n",
    "- Método 2:  Estadística multivariada - Propósito: Relacionar el comportamiento de varias variables (Servicio, Mortalidad, Diagnóstico) y cómo se influyen entre ellas, esto para poder justificar mejor las respuestas a nuestras preguntas, además de proveer un análisis más profundo.\n",
    "- (Opcional) Método 3: Estadística inferencial - Propósito: Sacar conclusiones y predicciones respecto a los datos.\n",
    "\n",
    "-Método 1: test ANOVA (Análisis de Varianza) - Comparar las medias de mortalidad a través de Servicios de Salud.\n",
    "\n",
    "-Método 2: Regresión Lineal - Sacar predicciones respecto a la mortalidad y los días de estancia.\n",
    "\n",
    "-Método 3: Correlación -  Verificar el tipo de relación entre las variables propuestas y si esta es positiva, negativa o nula\n",
    "\n",
    "\n",
    "## 8. Potencial impacto y aplicación práctica\n",
    "\n",
    "Los resultados obtenidos de esta investigación influirán en la toma de decisiones de los administradores de servicios de salud, ayudará a enfocar los esfuerzos en las enfermedades e instituciones (públicas o privadas) que más lo requieran con el objetivo de disminuir la mortalidad y mejorar la calidad de atencion.\n",
    "\n",
    "## 9. Supuestos estadísticos necesarios\n",
    "\n",
    "- Supuesto 1: Relación entre mortalidad y enfermedad - Forma de validación: Gráficos de correlación entre ambas variables y el levantamiento de estadísticos que lo demuestren\n",
    "- Supuesto 2: Cada enfermedad tiene una Mortalidad única - Forma de validación: Usar funciones que nos permitan validar valores únicos en las columnas\n",
    "- (Opcional) Supuesto 3:  - Forma de validación: _______________\n",
    "\n",
    "## 10. Limitaciones del estudio\n",
    "\n",
    "- Limitación 1: En GRD se combina enfermedades con padecimientos producto de accidentes - Estrategia de mitigación: reducir las enfermedades analizadas según un criterio previamente definido. \n",
    "- Limitación 2: Las enfermedades pueden tener distintas mortalidades en distintos servicios de salud - Estrategia de mitigación: se realizará un análisis y un filtro para comprobar y corregir esto.\n",
    "- (Opcional) Limitación 3: ________ - Estrategia de mitigación: ___________\n",
    "\n",
    "## 11. Cronograma detallado del proyecto\n",
    "\n",
    "- Semanas 4-5: Limpieza de datos y extracción de los datos útiles para el estudio\n",
    "- Semanas 6-7: análisis de variables individualmente por servicio de salud\n",
    "- Semanas 8-9: Analisis multivariable e inicio de analisis inferencial\n",
    "- Semanas 10-11: Análisis inferencial para predicciones\n",
    "- Semana 12 (preparación final): Conclusiones a partir de la información obtenida\n",
    "\n"
   ]
  },
  {
   "cell_type": "markdown",
   "metadata": {},
   "source": [
    "### 3.3 Guía para formular una buena pregunta de investigación\n",
    "\n",
    "Una buena pregunta de investigación en análisis de datos GRD debería ser:\n",
    "\n",
    "1. **Específica**: Claramente delimitada en alcance y población\n",
    "2. **Medible**: Incluir variables que puedan ser cuantificadas con los datos disponibles\n",
    "3. **Relevante**: Abordar un problema significativo en gestión hospitalaria o salud pública\n",
    "4. **Factible**: Posible de responder con los datos y métodos disponibles\n",
    "5. **Novedosa**: Aportar conocimiento nuevo o perspectivas diferentes\n",
    "\n",
    "Ejemplos de preguntas bien formuladas:\n",
    "\n",
    "- \"¿Cuál es la relación entre el número de comorbilidades y la duración de estadía hospitalaria en pacientes con cáncer genitourinario?\"\n",
    "- \"¿Existen diferencias significativas en la severidad de hospitalización entre ingresos electivos y de urgencia para los mismos códigos GRD?\"\n",
    "- \"¿Qué factores demográficos y clínicos predicen mejor la mortalidad hospitalaria en pacientes con diagnóstico de cáncer de próstata?\""
   ]
  },
  {
   "cell_type": "markdown",
   "metadata": {},
   "source": [
    "## Conclusión y Próximos Pasos\n",
    "\n",
    "En este notebook hemos:\n",
    "1. Practicado la simulación de datos y pruebas de ajuste con NumPy y SciPy\n",
    "2. Explorado datos GRD para entender su estructura y características\n",
    "3. Establecido las bases para definir un proyecto de investigación\n",
    "\n",
    "Sus próximos pasos deberían ser:\n",
    "1. Completar la plantilla de definición del proyecto con su grupo\n",
    "2. Profundizar la exploración de variables específicas relacionadas con su pregunta\n",
    "3. Diseñar un plan de análisis estadístico detallado\n",
    "4. Comenzar el preprocesamiento de datos necesario para su investigación\n",
    "\n",
    "Recuerde que un buen proyecto no solo aplica técnicas estadísticas correctamente, sino que también interpreta los resultados en el contexto del sistema de salud y propone aplicaciones prácticas.\n",
    "\n",
    "¡Buena suerte en su proyecto de investigación!"
   ]
  }
 ],
 "metadata": {
  "kernelspec": {
   "display_name": "Python 3",
   "language": "python",
   "name": "python3"
  },
  "language_info": {
   "codemirror_mode": {
    "name": "ipython",
    "version": 3
   },
   "file_extension": ".py",
   "mimetype": "text/x-python",
   "name": "python",
   "nbconvert_exporter": "python",
   "pygments_lexer": "ipython3",
   "version": "3.12.3"
  }
 },
 "nbformat": 4,
 "nbformat_minor": 4
}
